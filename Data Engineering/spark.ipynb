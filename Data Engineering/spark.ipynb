{
 "cells": [
  {
   "cell_type": "code",
   "execution_count": 1,
   "metadata": {},
   "outputs": [],
   "source": [
    "import pyspark\n"
   ]
  },
  {
   "cell_type": "code",
   "execution_count": 2,
   "metadata": {},
   "outputs": [],
   "source": [
    "from pyspark.context import SparkContext\n",
    "from pyspark.sql import SparkSession"
   ]
  },
  {
   "cell_type": "code",
   "execution_count": 3,
   "metadata": {},
   "outputs": [],
   "source": [
    "import json"
   ]
  },
  {
   "cell_type": "code",
   "execution_count": 4,
   "metadata": {},
   "outputs": [],
   "source": [
    "spark = SparkSession \\\n",
    "    .builder \\\n",
    "    .appName(\"Python Spark SQL basic example\") \\\n",
    "    .config(\"spark.some.config.option\", \"some-value\") \\\n",
    "    .getOrCreate()"
   ]
  },
  {
   "cell_type": "code",
   "execution_count": 5,
   "metadata": {},
   "outputs": [
    {
     "name": "stdout",
     "output_type": "stream",
     "text": [
      "root\n",
      " |-- Address: string (nullable = true)\n",
      " |-- Amount: string (nullable = true)\n",
      " |-- Contribution Mode: string (nullable = true)\n",
      " |-- Financial Year: string (nullable = true)\n",
      " |-- Name: string (nullable = true)\n",
      " |-- PAN Given: string (nullable = true)\n",
      " |-- Party: string (nullable = true)\n",
      " |-- Type: string (nullable = true)\n",
      " |-- _corrupt_record: string (nullable = true)\n",
      " |-- field10: string (nullable = true)\n",
      " |-- field11: string (nullable = true)\n",
      " |-- field12: string (nullable = true)\n",
      " |-- field13: string (nullable = true)\n",
      " |-- field14: string (nullable = true)\n",
      " |-- field9: string (nullable = true)\n",
      "\n",
      "+--------------------+--------+--------------------+--------------+--------------------+---------+------+------+---------------+-------+-------+-------+-------+-------+------+\n",
      "|             Address|  Amount|   Contribution Mode|Financial Year|                Name|PAN Given| Party|  Type|_corrupt_record|field10|field11|field12|field13|field14|field9|\n",
      "+--------------------+--------+--------------------+--------------+--------------------+---------+------+------+---------------+-------+-------+-------+-------+-------+------+\n",
      "|                null|    null|                null|          null|                null|     null|  null|  null|              [|   null|   null|   null|   null|   null|  null|\n",
      "|16-B, Ferozeshah ...| 3000000|                CASH|       2010-11|          Aziz Pasha|        Y|   CPI|Others|           null|       |       |       |       |       |      |\n",
      "|No.1, First Floor...|10000000|000037, HDFC Bank...|       2014-15|    V K Ramachandran|        Y|CPI(M)|Others|           null|       |       |       |       |       |      |\n",
      "|3, Motilal Nehru ...|  108000|Cheque, State Ban...|       2014-15|  Dr. Manmohan Singh|        N|   INC|Others|           null|       |       |       |       |       |      |\n",
      "|9,Firozshah Road ...|   54000|Through Bank Tran...|       2011-12| Dr. Manda Jagnathan|        N|   INC|Others|           null|       |       |       |       |       |      |\n",
      "|17,Dr.B.R.Mehta L...|   54000|Through Bank Tran...|       2011-12|    Prof. K.V.Thomas|        N|   INC|Others|           null|       |       |       |       |       |      |\n",
      "|31 Shamla Hills B...|  100000|          146865 SBI|       2011-12|     Sweta Chyouksey|        Y|   BJP|Others|           null|       |       |       |       |       |      |\n",
      "|45 Bunglows Bhopa...|  100000|          994966 SBI|       2011-12|   Uma Shankar Gupta|        N|   BJP|Others|           null|       |       |       |       |       |      |\n",
      "|                  --|   25000|14021,  Union Ban...|       2013-14|Parshwanath Bhakt...|        N|   BJP|Others|           null|       |       |       |       |       |      |\n",
      "|9 Santoshi Ayodhy...|  100000|          168278 SBI|       2011-12|Anand Constructio...|        Y|   BJP|Others|           null|       |       |       |       |       |      |\n",
      "|197, North Avenue...|   54000|       Bank Transfer|       2013-14|       Kamal Kashore|        N|   INC|Others|           null|       |       |       |       |       |      |\n",
      "|              Mumbai|  100000|955592 Bank Of In...|       2004-05|          R.V Pandit|        N|   BJP|Others|           null|       |       |       |       |       |      |\n",
      "|                  --|  100000|              430969|       2012-13|      A & T Infracon|        N|   BJP|Others|           null|       |       |       |       |       |      |\n",
      "|G/3 Phonix Buildi...|  300000|Cheque No.884045 ...|       2008-09|A 2 Z online  Ser...|        N|   BJP|Others|           null|       |       |       |       |       |      |\n",
      "|G/3 Phonix Buildi...|  200000|Cheque No-  88404...|       2008-09|A 2 Z online  Ser...|        N|   BJP|Others|           null|       |       |       |       |       |      |\n",
      "|G/3 Phonix Buildi...|  200000|Cheque No-  88404...|       2008-09|A 2 Z online  Ser...|        N|   BJP|Others|           null|       |       |       |       |       |      |\n",
      "|                  --|  125000|952450, Saraswat ...|       2012-13|A B Rolling Mills...|        N|   BJP|Others|           null|       |       |       |       |       |      |\n",
      "|82, Narbada Road ...|  100000|72437 Allahabad Bank|       2011-12|           A C Dixit|        N|   BJP|Others|           null|       |       |       |       |       |      |\n",
      "|S.F.S. Tirupati A...|  100000|174993, Union Ban...|       2014-15|        A D Builders|        Y|   BJP|Others|           null|       |       |       |       |       |      |\n",
      "|                  --|   21000|            234, BOI|       2012-13|               A Fox|        N|   BJP|Others|           null|       |       |       |       |       |      |\n",
      "+--------------------+--------+--------------------+--------------+--------------------+---------+------+------+---------------+-------+-------+-------+-------+-------+------+\n",
      "only showing top 20 rows\n",
      "\n",
      "+--------------------+--------+--------------------+--------------+--------------------+---------+------+------+---------------+-------+-------+-------+-------+-------+------+\n",
      "|             Address|  Amount|   Contribution Mode|Financial Year|                Name|PAN Given| Party|  Type|_corrupt_record|field10|field11|field12|field13|field14|field9|\n",
      "+--------------------+--------+--------------------+--------------+--------------------+---------+------+------+---------------+-------+-------+-------+-------+-------+------+\n",
      "|16-B, Ferozeshah ...| 3000000|                CASH|       2010-11|          Aziz Pasha|        Y|   CPI|Others|           null|       |       |       |       |       |      |\n",
      "|No.1, First Floor...|10000000|000037, HDFC Bank...|       2014-15|    V K Ramachandran|        Y|CPI(M)|Others|           null|       |       |       |       |       |      |\n",
      "|3, Motilal Nehru ...|  108000|Cheque, State Ban...|       2014-15|  Dr. Manmohan Singh|        N|   INC|Others|           null|       |       |       |       |       |      |\n",
      "|9,Firozshah Road ...|   54000|Through Bank Tran...|       2011-12| Dr. Manda Jagnathan|        N|   INC|Others|           null|       |       |       |       |       |      |\n",
      "|17,Dr.B.R.Mehta L...|   54000|Through Bank Tran...|       2011-12|    Prof. K.V.Thomas|        N|   INC|Others|           null|       |       |       |       |       |      |\n",
      "|31 Shamla Hills B...|  100000|          146865 SBI|       2011-12|     Sweta Chyouksey|        Y|   BJP|Others|           null|       |       |       |       |       |      |\n",
      "|45 Bunglows Bhopa...|  100000|          994966 SBI|       2011-12|   Uma Shankar Gupta|        N|   BJP|Others|           null|       |       |       |       |       |      |\n",
      "|                  --|   25000|14021,  Union Ban...|       2013-14|Parshwanath Bhakt...|        N|   BJP|Others|           null|       |       |       |       |       |      |\n",
      "|9 Santoshi Ayodhy...|  100000|          168278 SBI|       2011-12|Anand Constructio...|        Y|   BJP|Others|           null|       |       |       |       |       |      |\n",
      "|197, North Avenue...|   54000|       Bank Transfer|       2013-14|       Kamal Kashore|        N|   INC|Others|           null|       |       |       |       |       |      |\n",
      "|              Mumbai|  100000|955592 Bank Of In...|       2004-05|          R.V Pandit|        N|   BJP|Others|           null|       |       |       |       |       |      |\n",
      "|                  --|  100000|              430969|       2012-13|      A & T Infracon|        N|   BJP|Others|           null|       |       |       |       |       |      |\n",
      "|G/3 Phonix Buildi...|  300000|Cheque No.884045 ...|       2008-09|A 2 Z online  Ser...|        N|   BJP|Others|           null|       |       |       |       |       |      |\n",
      "|G/3 Phonix Buildi...|  200000|Cheque No-  88404...|       2008-09|A 2 Z online  Ser...|        N|   BJP|Others|           null|       |       |       |       |       |      |\n",
      "|G/3 Phonix Buildi...|  200000|Cheque No-  88404...|       2008-09|A 2 Z online  Ser...|        N|   BJP|Others|           null|       |       |       |       |       |      |\n",
      "|                  --|  125000|952450, Saraswat ...|       2012-13|A B Rolling Mills...|        N|   BJP|Others|           null|       |       |       |       |       |      |\n",
      "|82, Narbada Road ...|  100000|72437 Allahabad Bank|       2011-12|           A C Dixit|        N|   BJP|Others|           null|       |       |       |       |       |      |\n",
      "|S.F.S. Tirupati A...|  100000|174993, Union Ban...|       2014-15|        A D Builders|        Y|   BJP|Others|           null|       |       |       |       |       |      |\n",
      "|                  --|   21000|            234, BOI|       2012-13|               A Fox|        N|   BJP|Others|           null|       |       |       |       |       |      |\n",
      "|211/213, Raja Bha...|  100000|Ch. No. 62063/dtd...|       2009-10|A Mahendra Jewellers|        Y|   INC|Others|           null|       |       |       |       |       |      |\n",
      "+--------------------+--------+--------------------+--------------+--------------------+---------+------+------+---------------+-------+-------+-------+-------+-------+------+\n",
      "only showing top 20 rows\n",
      "\n"
     ]
    }
   ],
   "source": [
    "\n",
    "# Read JSON file into dataframe\n",
    "df = spark.read.json(\"donation_np.json\")\n",
    "df.printSchema()\n",
    "df.show()\n",
    "# remove non-essential attribute\n",
    "df = df.na.drop(subset=[\"Name\"])\n",
    "df.show()\n"
   ]
  },
  {
   "cell_type": "code",
   "execution_count": 6,
   "metadata": {},
   "outputs": [
    {
     "name": "stdout",
     "output_type": "stream",
     "text": [
      "+--------------------+--------+--------------------+--------+--------------------+---------+------+------+---------------+-------+-------+-------+-------+-------+------+\n",
      "|             Address|  Amount|     mode_of_payment|fin_year|                Name|pan_given| Party|  Type|_corrupt_record|field10|field11|field12|field13|field14|field9|\n",
      "+--------------------+--------+--------------------+--------+--------------------+---------+------+------+---------------+-------+-------+-------+-------+-------+------+\n",
      "|16-B, Ferozeshah ...| 3000000|                CASH| 2010-11|          Aziz Pasha|        Y|   CPI|Others|           null|       |       |       |       |       |      |\n",
      "|No.1, First Floor...|10000000|000037, HDFC Bank...| 2014-15|    V K Ramachandran|        Y|CPI(M)|Others|           null|       |       |       |       |       |      |\n",
      "|3, Motilal Nehru ...|  108000|Cheque, State Ban...| 2014-15|  Dr. Manmohan Singh|        N|   INC|Others|           null|       |       |       |       |       |      |\n",
      "|9,Firozshah Road ...|   54000|Through Bank Tran...| 2011-12| Dr. Manda Jagnathan|        N|   INC|Others|           null|       |       |       |       |       |      |\n",
      "|17,Dr.B.R.Mehta L...|   54000|Through Bank Tran...| 2011-12|    Prof. K.V.Thomas|        N|   INC|Others|           null|       |       |       |       |       |      |\n",
      "|31 Shamla Hills B...|  100000|          146865 SBI| 2011-12|     Sweta Chyouksey|        Y|   BJP|Others|           null|       |       |       |       |       |      |\n",
      "|45 Bunglows Bhopa...|  100000|          994966 SBI| 2011-12|   Uma Shankar Gupta|        N|   BJP|Others|           null|       |       |       |       |       |      |\n",
      "|                  --|   25000|14021,  Union Ban...| 2013-14|Parshwanath Bhakt...|        N|   BJP|Others|           null|       |       |       |       |       |      |\n",
      "|9 Santoshi Ayodhy...|  100000|          168278 SBI| 2011-12|Anand Constructio...|        Y|   BJP|Others|           null|       |       |       |       |       |      |\n",
      "|197, North Avenue...|   54000|       Bank Transfer| 2013-14|       Kamal Kashore|        N|   INC|Others|           null|       |       |       |       |       |      |\n",
      "|              Mumbai|  100000|955592 Bank Of In...| 2004-05|          R.V Pandit|        N|   BJP|Others|           null|       |       |       |       |       |      |\n",
      "|                  --|  100000|              430969| 2012-13|      A & T Infracon|        N|   BJP|Others|           null|       |       |       |       |       |      |\n",
      "|G/3 Phonix Buildi...|  300000|Cheque No.884045 ...| 2008-09|A 2 Z online  Ser...|        N|   BJP|Others|           null|       |       |       |       |       |      |\n",
      "|G/3 Phonix Buildi...|  200000|Cheque No-  88404...| 2008-09|A 2 Z online  Ser...|        N|   BJP|Others|           null|       |       |       |       |       |      |\n",
      "|G/3 Phonix Buildi...|  200000|Cheque No-  88404...| 2008-09|A 2 Z online  Ser...|        N|   BJP|Others|           null|       |       |       |       |       |      |\n",
      "|                  --|  125000|952450, Saraswat ...| 2012-13|A B Rolling Mills...|        N|   BJP|Others|           null|       |       |       |       |       |      |\n",
      "|82, Narbada Road ...|  100000|72437 Allahabad Bank| 2011-12|           A C Dixit|        N|   BJP|Others|           null|       |       |       |       |       |      |\n",
      "|S.F.S. Tirupati A...|  100000|174993, Union Ban...| 2014-15|        A D Builders|        Y|   BJP|Others|           null|       |       |       |       |       |      |\n",
      "|                  --|   21000|            234, BOI| 2012-13|               A Fox|        N|   BJP|Others|           null|       |       |       |       |       |      |\n",
      "|211/213, Raja Bha...|  100000|Ch. No. 62063/dtd...| 2009-10|A Mahendra Jewellers|        Y|   INC|Others|           null|       |       |       |       |       |      |\n",
      "+--------------------+--------+--------------------+--------+--------------------+---------+------+------+---------------+-------+-------+-------+-------+-------+------+\n",
      "only showing top 20 rows\n",
      "\n"
     ]
    }
   ],
   "source": [
    "#change in column names\n",
    "df = df.withColumnRenamed(\"Contribution Mode\",\"mode_of_payment\").withColumnRenamed(\"Financial Year\",\"fin_year\").withColumnRenamed(\"PAN Given\",\"pan_given\")\n",
    "df.show()"
   ]
  },
  {
   "cell_type": "code",
   "execution_count": 7,
   "metadata": {},
   "outputs": [],
   "source": [
    "import hashlib"
   ]
  },
  {
   "cell_type": "code",
   "execution_count": 8,
   "metadata": {},
   "outputs": [],
   "source": [
    "#encrypt address column\n",
    "from pyspark.sql.functions import sha2, concat_ws\n",
    "df = df.withColumn(\"Address\", sha2(concat_ws(\"||\", df.Address), 256))\n"
   ]
  },
  {
   "cell_type": "code",
   "execution_count": 9,
   "metadata": {},
   "outputs": [
    {
     "name": "stdout",
     "output_type": "stream",
     "text": [
      "+--------------------+--------+--------------------+--------+--------------------+---------+------+------+---------------+-------+-------+-------+-------+-------+------+\n",
      "|             Address|  Amount|     mode_of_payment|fin_year|                Name|pan_given| Party|  Type|_corrupt_record|field10|field11|field12|field13|field14|field9|\n",
      "+--------------------+--------+--------------------+--------+--------------------+---------+------+------+---------------+-------+-------+-------+-------+-------+------+\n",
      "|5a3058deb6f337958...| 3000000|                CASH| 2010-11|          Aziz Pasha|        Y|   CPI|Others|           null|       |       |       |       |       |      |\n",
      "|846539cb21bc9e6c6...|10000000|000037, HDFC Bank...| 2014-15|    V K Ramachandran|        Y|CPI(M)|Others|           null|       |       |       |       |       |      |\n",
      "|869fa3a19f1c51ad1...|  108000|Cheque, State Ban...| 2014-15|  Dr. Manmohan Singh|        N|   INC|Others|           null|       |       |       |       |       |      |\n",
      "|5f04f40130569ddab...|   54000|Through Bank Tran...| 2011-12| Dr. Manda Jagnathan|        N|   INC|Others|           null|       |       |       |       |       |      |\n",
      "|524b1379d08e4c02f...|   54000|Through Bank Tran...| 2011-12|    Prof. K.V.Thomas|        N|   INC|Others|           null|       |       |       |       |       |      |\n",
      "|6db7af0c5dca3b333...|  100000|          146865 SBI| 2011-12|     Sweta Chyouksey|        Y|   BJP|Others|           null|       |       |       |       |       |      |\n",
      "|c01158e07376c3778...|  100000|          994966 SBI| 2011-12|   Uma Shankar Gupta|        N|   BJP|Others|           null|       |       |       |       |       |      |\n",
      "|d8156bae0c4243d37...|   25000|14021,  Union Ban...| 2013-14|Parshwanath Bhakt...|        N|   BJP|Others|           null|       |       |       |       |       |      |\n",
      "|15c64efe58b209e20...|  100000|          168278 SBI| 2011-12|Anand Constructio...|        Y|   BJP|Others|           null|       |       |       |       |       |      |\n",
      "|c8087c832dde2a1c4...|   54000|       Bank Transfer| 2013-14|       Kamal Kashore|        N|   INC|Others|           null|       |       |       |       |       |      |\n",
      "|9f2ba6981e36ea0fc...|  100000|955592 Bank Of In...| 2004-05|          R.V Pandit|        N|   BJP|Others|           null|       |       |       |       |       |      |\n",
      "|d8156bae0c4243d37...|  100000|              430969| 2012-13|      A & T Infracon|        N|   BJP|Others|           null|       |       |       |       |       |      |\n",
      "|9ed075605230cbb74...|  300000|Cheque No.884045 ...| 2008-09|A 2 Z online  Ser...|        N|   BJP|Others|           null|       |       |       |       |       |      |\n",
      "|4bc59ca1c387bfd59...|  200000|Cheque No-  88404...| 2008-09|A 2 Z online  Ser...|        N|   BJP|Others|           null|       |       |       |       |       |      |\n",
      "|4bc59ca1c387bfd59...|  200000|Cheque No-  88404...| 2008-09|A 2 Z online  Ser...|        N|   BJP|Others|           null|       |       |       |       |       |      |\n",
      "|d8156bae0c4243d37...|  125000|952450, Saraswat ...| 2012-13|A B Rolling Mills...|        N|   BJP|Others|           null|       |       |       |       |       |      |\n",
      "|a68f3334fbfbdf18b...|  100000|72437 Allahabad Bank| 2011-12|           A C Dixit|        N|   BJP|Others|           null|       |       |       |       |       |      |\n",
      "|e9552141c8f9ab365...|  100000|174993, Union Ban...| 2014-15|        A D Builders|        Y|   BJP|Others|           null|       |       |       |       |       |      |\n",
      "|d8156bae0c4243d37...|   21000|            234, BOI| 2012-13|               A Fox|        N|   BJP|Others|           null|       |       |       |       |       |      |\n",
      "|6f87e5d7cdf08271c...|  100000|Ch. No. 62063/dtd...| 2009-10|A Mahendra Jewellers|        Y|   INC|Others|           null|       |       |       |       |       |      |\n",
      "+--------------------+--------+--------------------+--------+--------------------+---------+------+------+---------------+-------+-------+-------+-------+-------+------+\n",
      "only showing top 20 rows\n",
      "\n"
     ]
    }
   ],
   "source": [
    "df.show()"
   ]
  },
  {
   "cell_type": "code",
   "execution_count": 10,
   "metadata": {},
   "outputs": [],
   "source": [
    "df = df.drop(\"_corrupt_record\",\"field10\",\"field11\",\"field12\",\"field13\",\"field14\",\"field9\")"
   ]
  },
  {
   "cell_type": "code",
   "execution_count": 11,
   "metadata": {},
   "outputs": [
    {
     "name": "stdout",
     "output_type": "stream",
     "text": [
      "+--------------------+--------+--------------------+--------+--------------------+---------+------+------+\n",
      "|             Address|  Amount|     mode_of_payment|fin_year|                Name|pan_given| Party|  Type|\n",
      "+--------------------+--------+--------------------+--------+--------------------+---------+------+------+\n",
      "|5a3058deb6f337958...| 3000000|                CASH| 2010-11|          Aziz Pasha|        Y|   CPI|Others|\n",
      "|846539cb21bc9e6c6...|10000000|000037, HDFC Bank...| 2014-15|    V K Ramachandran|        Y|CPI(M)|Others|\n",
      "|869fa3a19f1c51ad1...|  108000|Cheque, State Ban...| 2014-15|  Dr. Manmohan Singh|        N|   INC|Others|\n",
      "|5f04f40130569ddab...|   54000|Through Bank Tran...| 2011-12| Dr. Manda Jagnathan|        N|   INC|Others|\n",
      "|524b1379d08e4c02f...|   54000|Through Bank Tran...| 2011-12|    Prof. K.V.Thomas|        N|   INC|Others|\n",
      "|6db7af0c5dca3b333...|  100000|          146865 SBI| 2011-12|     Sweta Chyouksey|        Y|   BJP|Others|\n",
      "|c01158e07376c3778...|  100000|          994966 SBI| 2011-12|   Uma Shankar Gupta|        N|   BJP|Others|\n",
      "|d8156bae0c4243d37...|   25000|14021,  Union Ban...| 2013-14|Parshwanath Bhakt...|        N|   BJP|Others|\n",
      "|15c64efe58b209e20...|  100000|          168278 SBI| 2011-12|Anand Constructio...|        Y|   BJP|Others|\n",
      "|c8087c832dde2a1c4...|   54000|       Bank Transfer| 2013-14|       Kamal Kashore|        N|   INC|Others|\n",
      "|9f2ba6981e36ea0fc...|  100000|955592 Bank Of In...| 2004-05|          R.V Pandit|        N|   BJP|Others|\n",
      "|d8156bae0c4243d37...|  100000|              430969| 2012-13|      A & T Infracon|        N|   BJP|Others|\n",
      "|9ed075605230cbb74...|  300000|Cheque No.884045 ...| 2008-09|A 2 Z online  Ser...|        N|   BJP|Others|\n",
      "|4bc59ca1c387bfd59...|  200000|Cheque No-  88404...| 2008-09|A 2 Z online  Ser...|        N|   BJP|Others|\n",
      "|4bc59ca1c387bfd59...|  200000|Cheque No-  88404...| 2008-09|A 2 Z online  Ser...|        N|   BJP|Others|\n",
      "|d8156bae0c4243d37...|  125000|952450, Saraswat ...| 2012-13|A B Rolling Mills...|        N|   BJP|Others|\n",
      "|a68f3334fbfbdf18b...|  100000|72437 Allahabad Bank| 2011-12|           A C Dixit|        N|   BJP|Others|\n",
      "|e9552141c8f9ab365...|  100000|174993, Union Ban...| 2014-15|        A D Builders|        Y|   BJP|Others|\n",
      "|d8156bae0c4243d37...|   21000|            234, BOI| 2012-13|               A Fox|        N|   BJP|Others|\n",
      "|6f87e5d7cdf08271c...|  100000|Ch. No. 62063/dtd...| 2009-10|A Mahendra Jewellers|        Y|   INC|Others|\n",
      "+--------------------+--------+--------------------+--------+--------------------+---------+------+------+\n",
      "only showing top 20 rows\n",
      "\n"
     ]
    }
   ],
   "source": [
    "df.show()"
   ]
  },
  {
   "cell_type": "code",
   "execution_count": 12,
   "metadata": {},
   "outputs": [
    {
     "name": "stdout",
     "output_type": "stream",
     "text": [
      "+--------------------+--------+---------------+--------+--------------------+---------+------+------+\n",
      "|             Address|  Amount|mode_of_payment|fin_year|                Name|pan_given| Party|  Type|\n",
      "+--------------------+--------+---------------+--------+--------------------+---------+------+------+\n",
      "|5a3058deb6f337958...| 3000000|           Cash| 2010-11|          Aziz Pasha|        Y|   CPI|Others|\n",
      "|846539cb21bc9e6c6...|10000000|           Bank| 2014-15|    V K Ramachandran|        Y|CPI(M)|Others|\n",
      "|869fa3a19f1c51ad1...|  108000|           Bank| 2014-15|  Dr. Manmohan Singh|        N|   INC|Others|\n",
      "|5f04f40130569ddab...|   54000|           Bank| 2011-12| Dr. Manda Jagnathan|        N|   INC|Others|\n",
      "|524b1379d08e4c02f...|   54000|           Bank| 2011-12|    Prof. K.V.Thomas|        N|   INC|Others|\n",
      "|6db7af0c5dca3b333...|  100000|         Cheque| 2011-12|     Sweta Chyouksey|        Y|   BJP|Others|\n",
      "|c01158e07376c3778...|  100000|         Cheque| 2011-12|   Uma Shankar Gupta|        N|   BJP|Others|\n",
      "|d8156bae0c4243d37...|   25000|           Bank| 2013-14|Parshwanath Bhakt...|        N|   BJP|Others|\n",
      "|15c64efe58b209e20...|  100000|         Cheque| 2011-12|Anand Constructio...|        Y|   BJP|Others|\n",
      "|c8087c832dde2a1c4...|   54000|           Bank| 2013-14|       Kamal Kashore|        N|   INC|Others|\n",
      "|9f2ba6981e36ea0fc...|  100000|           Bank| 2004-05|          R.V Pandit|        N|   BJP|Others|\n",
      "|d8156bae0c4243d37...|  100000|         Cheque| 2012-13|      A & T Infracon|        N|   BJP|Others|\n",
      "|9ed075605230cbb74...|  300000|           Bank| 2008-09|A 2 Z online  Ser...|        N|   BJP|Others|\n",
      "|4bc59ca1c387bfd59...|  200000|           Bank| 2008-09|A 2 Z online  Ser...|        N|   BJP|Others|\n",
      "|4bc59ca1c387bfd59...|  200000|           Bank| 2008-09|A 2 Z online  Ser...|        N|   BJP|Others|\n",
      "|d8156bae0c4243d37...|  125000|           Bank| 2012-13|A B Rolling Mills...|        N|   BJP|Others|\n",
      "|a68f3334fbfbdf18b...|  100000|           Bank| 2011-12|           A C Dixit|        N|   BJP|Others|\n",
      "|e9552141c8f9ab365...|  100000|           Bank| 2014-15|        A D Builders|        Y|   BJP|Others|\n",
      "|d8156bae0c4243d37...|   21000|         Cheque| 2012-13|               A Fox|        N|   BJP|Others|\n",
      "|6f87e5d7cdf08271c...|  100000|           Bank| 2009-10|A Mahendra Jewellers|        Y|   INC|Others|\n",
      "+--------------------+--------+---------------+--------+--------------------+---------+------+------+\n",
      "only showing top 20 rows\n",
      "\n"
     ]
    }
   ],
   "source": [
    "#categorize mode_of_payment into 4 categories\n",
    "from pyspark.sql.functions import when\n",
    "df2 = df.withColumn(\"mode_of_payment\",\n",
    "                                 when(df.mode_of_payment.like(\"%D\"),\"others\")\\\n",
    "                                 .when(df.mode_of_payment.like(\"%CASH\"),\"Cash\")\\\n",
    "                                 .when(df.mode_of_payment.like(\"%Bank%\"),\"Bank\")\\\n",
    "                                .otherwise(\"Cheque\"))\n",
    "df2.show()"
   ]
  },
  {
   "cell_type": "code",
   "execution_count": 13,
   "metadata": {},
   "outputs": [],
   "source": [
    "from pyspark.sql.functions import sum"
   ]
  },
  {
   "cell_type": "code",
   "execution_count": 14,
   "metadata": {},
   "outputs": [],
   "source": [
    "#typecasting string to integer\n",
    "from pyspark.sql.types import IntegerType\n",
    "df2 = df2.withColumn(\"Amount\", df2[\"Amount\"].cast(IntegerType()))"
   ]
  },
  {
   "cell_type": "code",
   "execution_count": 15,
   "metadata": {},
   "outputs": [
    {
     "name": "stdout",
     "output_type": "stream",
     "text": [
      "+--------------------+--------+---------------+--------+--------------------+---------+------+------+\n",
      "|             Address|  Amount|mode_of_payment|fin_year|                Name|pan_given| Party|  Type|\n",
      "+--------------------+--------+---------------+--------+--------------------+---------+------+------+\n",
      "|5a3058deb6f337958...| 3000000|           Cash| 2010-11|          Aziz Pasha|        Y|   CPI|Others|\n",
      "|846539cb21bc9e6c6...|10000000|           Bank| 2014-15|    V K Ramachandran|        Y|CPI(M)|Others|\n",
      "|869fa3a19f1c51ad1...|  108000|           Bank| 2014-15|  Dr. Manmohan Singh|        N|   INC|Others|\n",
      "|5f04f40130569ddab...|   54000|           Bank| 2011-12| Dr. Manda Jagnathan|        N|   INC|Others|\n",
      "|524b1379d08e4c02f...|   54000|           Bank| 2011-12|    Prof. K.V.Thomas|        N|   INC|Others|\n",
      "|6db7af0c5dca3b333...|  100000|         Cheque| 2011-12|     Sweta Chyouksey|        Y|   BJP|Others|\n",
      "|c01158e07376c3778...|  100000|         Cheque| 2011-12|   Uma Shankar Gupta|        N|   BJP|Others|\n",
      "|d8156bae0c4243d37...|   25000|           Bank| 2013-14|Parshwanath Bhakt...|        N|   BJP|Others|\n",
      "|15c64efe58b209e20...|  100000|         Cheque| 2011-12|Anand Constructio...|        Y|   BJP|Others|\n",
      "|c8087c832dde2a1c4...|   54000|           Bank| 2013-14|       Kamal Kashore|        N|   INC|Others|\n",
      "|9f2ba6981e36ea0fc...|  100000|           Bank| 2004-05|          R.V Pandit|        N|   BJP|Others|\n",
      "|d8156bae0c4243d37...|  100000|         Cheque| 2012-13|      A & T Infracon|        N|   BJP|Others|\n",
      "|9ed075605230cbb74...|  300000|           Bank| 2008-09|A 2 Z online  Ser...|        N|   BJP|Others|\n",
      "|4bc59ca1c387bfd59...|  200000|           Bank| 2008-09|A 2 Z online  Ser...|        N|   BJP|Others|\n",
      "|4bc59ca1c387bfd59...|  200000|           Bank| 2008-09|A 2 Z online  Ser...|        N|   BJP|Others|\n",
      "|d8156bae0c4243d37...|  125000|           Bank| 2012-13|A B Rolling Mills...|        N|   BJP|Others|\n",
      "|a68f3334fbfbdf18b...|  100000|           Bank| 2011-12|           A C Dixit|        N|   BJP|Others|\n",
      "|e9552141c8f9ab365...|  100000|           Bank| 2014-15|        A D Builders|        Y|   BJP|Others|\n",
      "|d8156bae0c4243d37...|   21000|         Cheque| 2012-13|               A Fox|        N|   BJP|Others|\n",
      "|6f87e5d7cdf08271c...|  100000|           Bank| 2009-10|A Mahendra Jewellers|        Y|   INC|Others|\n",
      "+--------------------+--------+---------------+--------+--------------------+---------+------+------+\n",
      "only showing top 20 rows\n",
      "\n"
     ]
    }
   ],
   "source": [
    "df2.show()"
   ]
  },
  {
   "cell_type": "code",
   "execution_count": 16,
   "metadata": {},
   "outputs": [
    {
     "name": "stdout",
     "output_type": "stream",
     "text": [
      "root\n",
      " |-- Address: string (nullable = true)\n",
      " |-- Amount: integer (nullable = true)\n",
      " |-- mode_of_payment: string (nullable = false)\n",
      " |-- fin_year: string (nullable = true)\n",
      " |-- Name: string (nullable = true)\n",
      " |-- pan_given: string (nullable = true)\n",
      " |-- Party: string (nullable = true)\n",
      " |-- Type: string (nullable = true)\n",
      "\n"
     ]
    }
   ],
   "source": [
    "df2.printSchema()"
   ]
  },
  {
   "cell_type": "code",
   "execution_count": 17,
   "metadata": {},
   "outputs": [
    {
     "name": "stdout",
     "output_type": "stream",
     "text": [
      "+------+-----------+\n",
      "| Party|sum(Amount)|\n",
      "+------+-----------+\n",
      "|   INC| 4031487349|\n",
      "|   BJP| 9295525996|\n",
      "|   NCP|  647911419|\n",
      "|   CPI|   68123698|\n",
      "|CPI(M)|  150622128|\n",
      "+------+-----------+\n",
      "\n"
     ]
    }
   ],
   "source": [
    "cf = df2.groupBy(\"Party\").sum(\"Amount\")\n",
    "cf.show()"
   ]
  },
  {
   "cell_type": "code",
   "execution_count": 18,
   "metadata": {},
   "outputs": [],
   "source": [
    "#\tCalculate aggregates per party - SUM\n",
    "from pyspark.sql.functions import col,lit\n",
    "\n",
    "sum_inc_ltd = df2.groupBy(\"Party\").sum(\"Amount\").filter(df.Party==\"INC\").select(\"sum(Amount)\").collect()\n",
    "sum_bjp_ltd = df2.groupBy(\"Party\").sum(\"Amount\").filter(df.Party==\"BJP\").select(\"sum(Amount)\").collect()\n",
    "sum_ncp_ltd = df2.groupBy(\"Party\").sum(\"Amount\").filter(df.Party==\"NCP\").select(\"sum(Amount)\").collect()\n",
    "sum_cpi_ltd = df2.groupBy(\"Party\").sum(\"Amount\").filter(df.Party==\"CPI\").select(\"sum(Amount)\").collect()\n",
    "sum_cpim_ltd = df2.groupBy(\"Party\").sum(\"Amount\").filter(df.Party==\"CPI(M)\").select(\"sum(Amount)\").collect()\n",
    "\n",
    "partyList = ['INC', 'BJP', 'NCP', 'CPI', 'CPI(M)']\n",
    "sumList = ['INC_SUM_LTD', 'BJP_SUM_LTD', 'NCP_SUM_LTD', 'CPI_SUM_LTD', 'CPI(M)_SUM_LTD']\n",
    "sumValue = [sum_inc_ltd[0][0], sum_bjp_ltd[0][0], sum_ncp_ltd[0][0], sum_cpi_ltd[0][0], sum_cpim_ltd[0][0]]\n",
    "\n",
    "for i in range(0, len(sumList)):\n",
    "\n",
    "    df2 = df2.withColumn(sumList[i], lit(0))\n",
    "    df2 = df2.withColumn(sumList[i], when(df2[\"Party\"].contains(partyList[i]), sumValue[i]).otherwise(0))\n",
    "\n",
    "\n"
   ]
  },
  {
   "cell_type": "code",
   "execution_count": 19,
   "metadata": {},
   "outputs": [
    {
     "data": {
      "text/plain": [
       "'df2 = df2.withColumn(\"sum_inc_ltd\",when((df.Party == \"INC\"),sum_inc_ltd[0][0]).otherwise(0))\\ndf2 = df2.withColumn(\"sum_bjp_ltd\",when((df.Party == \"BJP\"),sum_bjp_ltd[0][0]).otherwise(0))\\ndf2 = df2.withColumn(\"sum_ncp_ltd\",when((df.Party == \"NCP\"),sum_ncp_ltd[0][0]).otherwise(0))\\ndf2 = df2.withColumn(\"sum_cpi_ltd\",when((df.Party == \"CPI\"),sum_cpi_ltd[0][0]).otherwise(0))\\ndf2 = df2.withColumn(\"sum_cpim_ltd\",when((df.Party == \"CPIM\"),sum_cpim_ltd[0][0]).otherwise(0))\\ndf2.show()'"
      ]
     },
     "execution_count": 19,
     "metadata": {},
     "output_type": "execute_result"
    }
   ],
   "source": [
    "\"\"\"df2 = df2.withColumn(\"sum_inc_ltd\",when((df.Party == \"INC\"),sum_inc_ltd[0][0]).otherwise(0))\n",
    "df2 = df2.withColumn(\"sum_bjp_ltd\",when((df.Party == \"BJP\"),sum_bjp_ltd[0][0]).otherwise(0))\n",
    "df2 = df2.withColumn(\"sum_ncp_ltd\",when((df.Party == \"NCP\"),sum_ncp_ltd[0][0]).otherwise(0))\n",
    "df2 = df2.withColumn(\"sum_cpi_ltd\",when((df.Party == \"CPI\"),sum_cpi_ltd[0][0]).otherwise(0))\n",
    "df2 = df2.withColumn(\"sum_cpim_ltd\",when((df.Party == \"CPIM\"),sum_cpim_ltd[0][0]).otherwise(0))\n",
    "df2.show()\"\"\""
   ]
  },
  {
   "cell_type": "code",
   "execution_count": 20,
   "metadata": {},
   "outputs": [],
   "source": [
    "\"\"\"count_inc_ltd = df2.groupBy(\"Party\").count(\"Party\").filter(df.Party==\"INC\").select(\"sum(Amount)\").collect()\n",
    "count_bjp_ltd = df2.groupBy(\"Party\").count(\"Party\").filter(df.Party==\"BJP\").select(\"sum(Amount)\").collect()\n",
    "count_ncp_ltd = df2.groupBy(\"Party\").count(\"Party\").filter(df.Party==\"NCP\").select(\"sum(Amount)\").collect()\n",
    "count_cpi_ltd = df2.groupBy(\"Party\").count(\"Party\").filter(df.Party==\"CPI\").select(\"sum(Amount)\").collect()\n",
    "count_cpim_ltd = df2.groupBy(\"Party\").count(\"Party\").filter(df.Party==\"CPI(M)\").select(\"sum(Amount)\").collect()\n",
    "\n",
    "df2 = df2.withColumn(\"INC_COUNT_LTD\",when((df.Party == \"INC\"),count_inc_ltd[0][0]).otherwise(0))\n",
    "df2 = df2.withColumn(\"BJP_COUNT_LTD\",when((df.Party == \"BJP\"),count_bjp_ltd[0][0]).otherwise(0))\n",
    "df2 = df2.withColumn(\"NCP_COUNT_LTD\",when((df.Party == \"NCP\"),count_ncp_ltd[0][0]).otherwise(0))\n",
    "df2 = df2.withColumn(\"CPI_COUNT_LTD\",when((df.Party == \"CPI\"),count_cpi_ltd[0][0]).otherwise(0))\n",
    "df2 = df2.withColumn(\"CPI(M)_COUNT_LTD\",when((df.Party == \"CPIM\"),count_cpim_ltd[0][0]).otherwise(0))\n",
    "df2.show() \"\"\"\n",
    "#•\tCalculate aggregates per party - COUNT\n",
    "from pyspark.sql.functions import col,lit\n",
    "\n",
    "INC = df2.groupBy(\"Party\").count().filter(df.Party==\"INC\").select(\"count\").collect()\n",
    "BJP = df2.groupBy(\"Party\").count().filter(df.Party==\"BJP\").select(\"count\").collect()\n",
    "NCP = df2.groupBy(\"Party\").count().filter(df.Party==\"NCP\").select(\"count\").collect()\n",
    "CPI = df2.groupBy(\"Party\").count().filter(df.Party==\"CPI\").select(\"count\").collect()\n",
    "CPI_M = df2.groupBy(\"Party\").count().filter(df.Party==\"CPI(M)\").select(\"count\").collect()\n",
    "\n",
    "partyList = ['INC', 'BJP', 'NCP', 'CPI', 'CPI(M)']\n",
    "countList = ['INC_COUNT_LTD', 'BJP_COUNT_LTD', 'NCP_COUNT_LTD', 'CPI_COUNT_LTD', 'CPI_M_COUNT_LTD']\n",
    "countValue = [INC[0][0], BJP[0][0],NCP[0][0], CPI[0][0], CPI_M[0][0]]\n",
    "\n",
    "for i in range(0, len(countList)):\n",
    "\n",
    "    df2 = df2.withColumn(countList[i], lit(0))\n",
    "    df2 = df2.withColumn(countList[i], when(df2[\"Party\"].contains(partyList[i]), countValue[i]).otherwise(0))\n",
    "\n"
   ]
  },
  {
   "cell_type": "code",
   "execution_count": 21,
   "metadata": {},
   "outputs": [],
   "source": [
    "\n",
    "#\tCalculate aggregates per party - AVERAGE\n",
    "from pyspark.sql.functions import col,lit\n",
    "\n",
    "avg_inc_ltd = df2.groupBy(\"Party\").avg(\"Amount\").filter(df.Party==\"INC\").select(\"avg(Amount)\").collect()\n",
    "avg_bjp_ltd = df2.groupBy(\"Party\").avg(\"Amount\").filter(df.Party==\"BJP\").select(\"avg(Amount)\").collect()\n",
    "avg_ncp_ltd = df2.groupBy(\"Party\").avg(\"Amount\").filter(df.Party==\"NCP\").select(\"avg(Amount)\").collect()\n",
    "avg_cpi_ltd = df2.groupBy(\"Party\").avg(\"Amount\").filter(df.Party==\"CPI\").select(\"avg(Amount)\").collect()\n",
    "avg_cpim_ltd = df2.groupBy(\"Party\").avg(\"Amount\").filter(df.Party==\"CPI(M)\").select(\"avg(Amount)\").collect()\n",
    "\n",
    "partyList = ['INC', 'BJP', 'NCP', 'CPI', 'CPI(M)']\n",
    "avgList = ['INC_AVG_LTD', 'BJP_AVG_LTD', 'NCP_AVG_LTD', 'CPI_AVG_LTD', 'CPI(M)_AVG_LTD']\n",
    "avgValue = [avg_inc_ltd[0][0], avg_bjp_ltd[0][0], avg_ncp_ltd[0][0], avg_cpi_ltd[0][0], avg_cpim_ltd[0][0]]\n",
    "\n",
    "for i in range(0, len(avgList)):\n",
    "\n",
    "    df2 = df2.withColumn(avgList[i], lit(0))\n",
    "    df2 = df2.withColumn(avgList[i], when(df2[\"Party\"].contains(partyList[i]), avgValue[i]).otherwise(0))"
   ]
  },
  {
   "cell_type": "code",
   "execution_count": 22,
   "metadata": {},
   "outputs": [],
   "source": [
    "#•\tCalculate aggregates per party - MAX\n",
    "from pyspark.sql.functions import col,lit\n",
    "\n",
    "max_inc_ltd = df2.groupBy(\"Party\").max(\"Amount\").filter(df.Party==\"INC\").select(\"max(Amount)\").collect()\n",
    "max_bjp_ltd = df2.groupBy(\"Party\").max(\"Amount\").filter(df.Party==\"BJP\").select(\"max(Amount)\").collect()\n",
    "max_ncp_ltd = df2.groupBy(\"Party\").max(\"Amount\").filter(df.Party==\"NCP\").select(\"max(Amount)\").collect()\n",
    "max_cpi_ltd = df2.groupBy(\"Party\").max(\"Amount\").filter(df.Party==\"CPI\").select(\"max(Amount)\").collect()\n",
    "max_cpim_ltd = df2.groupBy(\"Party\").max(\"Amount\").filter(df.Party==\"CPI(M)\").select(\"max(Amount)\").collect()\n",
    "\n",
    "partyList = ['INC', 'BJP', 'NCP', 'CPI', 'CPI(M)']\n",
    "maxList = ['INC_MAX_LTD', 'BJP_MAX_LTD', 'NCP_MAX_LTD', 'CPI_MAX_LTD', 'CPI(M)_MAX_LTD']\n",
    "maxValue = [max_inc_ltd[0][0], max_bjp_ltd[0][0], max_ncp_ltd[0][0], max_cpi_ltd[0][0], max_cpim_ltd[0][0]]\n",
    "\n",
    "for i in range(0, len(avgList)):\n",
    "\n",
    "    df2 = df2.withColumn(maxList[i], lit(0))\n",
    "    df2 = df2.withColumn(maxList[i], when(df2[\"Party\"].contains(partyList[i]), maxValue[i]).otherwise(0))"
   ]
  },
  {
   "cell_type": "code",
   "execution_count": 29,
   "metadata": {},
   "outputs": [
    {
     "name": "stdout",
     "output_type": "stream",
     "text": [
      "+--------------------+--------+---------------+--------+--------------------+---------+------+------+-----------+-----------+-----------+-----------+--------------+-------------+-------------+-------------+-------------+---------------+------------------+------------------+-----------+------------------+-----------------+-----------+-----------+-----------+-----------+--------------+-------------+--------------+----------------+--------------+---------------+---------------+---------------+------------------+---------------+------------------+---------------+---------------+------------------+---------------+---------------+---------------+---------------+------------------+---------------+---------------+---------------+---------------+---------------+------------------+---------------+---------------+------------------+---------------+---------------+---------------+---------------+------------------+---------------+---------------+---------------+---------------+---------------+---------------+---------------+------------------+------------------+---------------+---------------+---------------+---------------+---------------+---------------+---------------+------------------+---------------+---------------+---------------+---------------+------------------+---------------+---------------+---------------+---------------+------------------+---------------+-------------+-------------+-------------+----------------+\n",
      "|             Address|  Amount|mode_of_payment|fin_year|                Name|pan_given| Party|  Type|INC_SUM_LTD|BJP_SUM_LTD|NCP_SUM_LTD|CPI_SUM_LTD|CPI(M)_SUM_LTD|INC_COUNT_LTD|BJP_COUNT_LTD|NCP_COUNT_LTD|CPI_COUNT_LTD|CPI_M_COUNT_LTD|       INC_AVG_LTD|       BJP_AVG_LTD|NCP_AVG_LTD|       CPI_AVG_LTD|   CPI(M)_AVG_LTD|INC_MAX_LTD|BJP_MAX_LTD|NCP_MAX_LTD|CPI_MAX_LTD|CPI(M)_MAX_LTD|BJP_TOP_DONOR|BANK_COUNT_LTD|CHEQUE_COUNT_LTD|CASH_COUNT_LTD|2003-04_BJP_SUM|2003-04_CPI_SUM|2003-04_INC_SUM|2003-04_CPI(M)_SUM|2004-05_INC_SUM|2004-05_CPI(M)_SUM|2004-05_CPI_SUM|2004-05_BJP_SUM|2005-06_CPI(M)_SUM|2005-06_BJP_SUM|2005-06_INC_SUM|2005-06_CPI_SUM|2006-07_INC_SUM|2006-07_CPI(M)_SUM|2006-07_BJP_SUM|2006-07_CPI_SUM|2007-08_CPI_SUM|2007-08_BJP_SUM|2007-08_NCP_SUM|2007-08_CPI(M)_SUM|2007-08_INC_SUM|2008-09_BJP_SUM|2008-09_CPI(M)_SUM|2008-09_CPI_SUM|2008-09_NCP_SUM|2008-09_INC_SUM|2009-10_BJP_SUM|2009-10_CPI(M)_SUM|2009-10_NCP_SUM|2009-10_CPI_SUM|2009-10_INC_SUM|2010-11_BJP_SUM|2010-11_NCP_SUM|2010-11_INC_SUM|2010-11_CPI_SUM|2010-11_CPI(M)_SUM|2011-12_CPI(M)_SUM|2011-12_BJP_SUM|2011-12_CPI_SUM|2011-12_INC_SUM|2011-12_NCP_SUM|2012-13_CPI_SUM|2012-13_NCP_SUM|2012-13_INC_SUM|2012-13_CPI(M)_SUM|2012-13_BJP_SUM|2013-14_INC_SUM|2013-14_NCP_SUM|2013-14_BJP_SUM|2013-14_CPI(M)_SUM|2013-14_CPI_SUM|2014-15_INC_SUM|2014-15_NCP_SUM|2014-15_BJP_SUM|2014-15_CPI(M)_SUM|2014-15_CPI_SUM|CPI_TOP_DONOR|INC_TOP_DONOR|NCP_TOP_DONOR|CPI(M)_TOP_DONOR|\n",
      "+--------------------+--------+---------------+--------+--------------------+---------+------+------+-----------+-----------+-----------+-----------+--------------+-------------+-------------+-------------+-------------+---------------+------------------+------------------+-----------+------------------+-----------------+-----------+-----------+-----------+-----------+--------------+-------------+--------------+----------------+--------------+---------------+---------------+---------------+------------------+---------------+------------------+---------------+---------------+------------------+---------------+---------------+---------------+---------------+------------------+---------------+---------------+---------------+---------------+---------------+------------------+---------------+---------------+------------------+---------------+---------------+---------------+---------------+------------------+---------------+---------------+---------------+---------------+---------------+---------------+---------------+------------------+------------------+---------------+---------------+---------------+---------------+---------------+---------------+---------------+------------------+---------------+---------------+---------------+---------------+------------------+---------------+---------------+---------------+---------------+------------------+---------------+-------------+-------------+-------------+----------------+\n",
      "|5a3058deb6f337958...| 3000000|           Cash| 2010-11|          Aziz Pasha|        Y|   CPI|Others|          0|          0|          0|   68123698|             0|            0|            0|            0|          384|              0|               0.0|               0.0|        0.0|177405.46354166666|              0.0|          0|          0|          0|    3000000|             0|            0|             0|               0|          8404|              -|         779148|              -|                 -|              -|                 -|         630000|              -|                 -|              -|              -|        3988690|              -|                 -|              -|        1229400|        4125800|              -|              -|                 -|              -|              -|                 -|        2585000|              -|              -|              -|                 -|              -|        8667852|              -|              -|              -|              -|       10811465|                 -|                 -|              -|        5982675|              -|              -|        3695449|              -|              -|                 -|              -|              -|              -|              -|                 -|       12281544|              -|              -|              -|                 -|       13346675|   Aziz Pasha|            0|            0|               0|\n",
      "|846539cb21bc9e6c6...|10000000|           Bank| 2014-15|    V K Ramachandran|        Y|CPI(M)|Others|          0|          0|          0|   68123698|     150622128|            0|            0|            0|          384|            515|               0.0|               0.0|        0.0|177405.46354166666|292470.1514563107|          0|          0|          0|    3000000|      10000000|            0|             0|               0|             0|              -|              -|              -|            200000|              -|            896355|              -|              -|            550000|              -|              -|              -|              -|           1124719|              -|              -|              -|              -|              -|           7226116|              -|              -|           4155000|              -|              -|              -|              -|           3962049|              -|              -|              -|              -|              -|              -|              -|          15357072|          23838657|              -|              -|              -|              -|              -|              -|              -|          38139996|              -|              -|              -|              -|          20974666|              -|              -|              -|              -|          34197498|              -|            0|            0|            0|V K Ramachandran|\n",
      "|869fa3a19f1c51ad1...|  108000|           Bank| 2014-15|  Dr. Manmohan Singh|        N|   INC|Others| 4031487349|          0|          0|          0|             0|         3785|            0|            0|            0|              0|1065122.1529722589|               0.0|        0.0|               0.0|              0.0|  500000000|          0|          0|          0|             0|            0|             0|               0|             0|              -|              -|       28301101|                 -|      320555643|                 -|              -|              -|                 -|              -|       59212492|              -|      121273513|                 -|              -|              -|              -|              -|              -|                 -|       78873451|              -|                 -|              -|              -|      279018460|              -|                 -|              -|              -|      840521238|              -|              -|       80205884|              -|                 -|                 -|              -|              -|       95910664|              -|              -|              -|      117166225|                 -|              -|      595837728|              -|              -|                 -|              -|     1414610950|              -|              -|                 -|              -|            0|            0|            0|               0|\n",
      "|5f04f40130569ddab...|   54000|           Bank| 2011-12| Dr. Manda Jagnathan|        N|   INC|Others| 4031487349|          0|          0|          0|             0|         3785|            0|            0|            0|              0|1065122.1529722589|               0.0|        0.0|               0.0|              0.0|  500000000|          0|          0|          0|             0|            0|             0|               0|             0|              -|              -|       28301101|                 -|      320555643|                 -|              -|              -|                 -|              -|       59212492|              -|      121273513|                 -|              -|              -|              -|              -|              -|                 -|       78873451|              -|                 -|              -|              -|      279018460|              -|                 -|              -|              -|      840521238|              -|              -|       80205884|              -|                 -|                 -|              -|              -|       95910664|              -|              -|              -|      117166225|                 -|              -|      595837728|              -|              -|                 -|              -|     1414610950|              -|              -|                 -|              -|            0|            0|            0|               0|\n",
      "|524b1379d08e4c02f...|   54000|           Bank| 2011-12|    Prof. K.V.Thomas|        N|   INC|Others| 4031487349|          0|          0|          0|             0|         3785|            0|            0|            0|              0|1065122.1529722589|               0.0|        0.0|               0.0|              0.0|  500000000|          0|          0|          0|             0|            0|             0|               0|             0|              -|              -|       28301101|                 -|      320555643|                 -|              -|              -|                 -|              -|       59212492|              -|      121273513|                 -|              -|              -|              -|              -|              -|                 -|       78873451|              -|                 -|              -|              -|      279018460|              -|                 -|              -|              -|      840521238|              -|              -|       80205884|              -|                 -|                 -|              -|              -|       95910664|              -|              -|              -|      117166225|                 -|              -|      595837728|              -|              -|                 -|              -|     1414610950|              -|              -|                 -|              -|            0|            0|            0|               0|\n",
      "|6db7af0c5dca3b333...|  100000|         Cheque| 2011-12|     Sweta Chyouksey|        Y|   BJP|Others|          0| 9295525996|          0|          0|             0|            0|         8782|            0|            0|              0|               0.0|1058474.8344340697|        0.0|               0.0|              0.0|          0|  500000000|          0|          0|             0|            0|             0|            5067|             0|      116881973|              -|              -|                 -|              -|                 -|              -|      339521289|                 -|       36156111|              -|              -|              -|                 -|       29550672|              -|              -|      249623653|              -|                 -|              -|      306057231|                 -|              -|              -|              -|      823220133|                 -|              -|              -|              -|      146253279|              -|              -|              -|                 -|                 -|      334194113|              -|              -|              -|              -|              -|              -|                 -|      831924462|              -|              -|     1708636182|                 -|              -|              -|              -|     4373506898|                 -|              -|            0|            0|            0|               0|\n",
      "|c01158e07376c3778...|  100000|         Cheque| 2011-12|   Uma Shankar Gupta|        N|   BJP|Others|          0| 9295525996|          0|          0|             0|            0|         8782|            0|            0|              0|               0.0|1058474.8344340697|        0.0|               0.0|              0.0|          0|  500000000|          0|          0|             0|            0|             0|            5067|             0|      116881973|              -|              -|                 -|              -|                 -|              -|      339521289|                 -|       36156111|              -|              -|              -|                 -|       29550672|              -|              -|      249623653|              -|                 -|              -|      306057231|                 -|              -|              -|              -|      823220133|                 -|              -|              -|              -|      146253279|              -|              -|              -|                 -|                 -|      334194113|              -|              -|              -|              -|              -|              -|                 -|      831924462|              -|              -|     1708636182|                 -|              -|              -|              -|     4373506898|                 -|              -|            0|            0|            0|               0|\n",
      "|d8156bae0c4243d37...|   25000|           Bank| 2013-14|Parshwanath Bhakt...|        N|   BJP|Others|          0| 9295525996|          0|          0|             0|            0|         8782|            0|            0|              0|               0.0|1058474.8344340697|        0.0|               0.0|              0.0|          0|  500000000|          0|          0|             0|            0|             0|               0|             0|      116881973|              -|              -|                 -|              -|                 -|              -|      339521289|                 -|       36156111|              -|              -|              -|                 -|       29550672|              -|              -|      249623653|              -|                 -|              -|      306057231|                 -|              -|              -|              -|      823220133|                 -|              -|              -|              -|      146253279|              -|              -|              -|                 -|                 -|      334194113|              -|              -|              -|              -|              -|              -|                 -|      831924462|              -|              -|     1708636182|                 -|              -|              -|              -|     4373506898|                 -|              -|            0|            0|            0|               0|\n",
      "|15c64efe58b209e20...|  100000|         Cheque| 2011-12|Anand Constructio...|        Y|   BJP|Others|          0| 9295525996|          0|          0|             0|            0|         8782|            0|            0|              0|               0.0|1058474.8344340697|        0.0|               0.0|              0.0|          0|  500000000|          0|          0|             0|            0|             0|            5067|             0|      116881973|              -|              -|                 -|              -|                 -|              -|      339521289|                 -|       36156111|              -|              -|              -|                 -|       29550672|              -|              -|      249623653|              -|                 -|              -|      306057231|                 -|              -|              -|              -|      823220133|                 -|              -|              -|              -|      146253279|              -|              -|              -|                 -|                 -|      334194113|              -|              -|              -|              -|              -|              -|                 -|      831924462|              -|              -|     1708636182|                 -|              -|              -|              -|     4373506898|                 -|              -|            0|            0|            0|               0|\n",
      "|c8087c832dde2a1c4...|   54000|           Bank| 2013-14|       Kamal Kashore|        N|   INC|Others| 4031487349|          0|          0|          0|             0|         3785|            0|            0|            0|              0|1065122.1529722589|               0.0|        0.0|               0.0|              0.0|  500000000|          0|          0|          0|             0|            0|             0|               0|             0|              -|              -|       28301101|                 -|      320555643|                 -|              -|              -|                 -|              -|       59212492|              -|      121273513|                 -|              -|              -|              -|              -|              -|                 -|       78873451|              -|                 -|              -|              -|      279018460|              -|                 -|              -|              -|      840521238|              -|              -|       80205884|              -|                 -|                 -|              -|              -|       95910664|              -|              -|              -|      117166225|                 -|              -|      595837728|              -|              -|                 -|              -|     1414610950|              -|              -|                 -|              -|            0|            0|            0|               0|\n",
      "|9f2ba6981e36ea0fc...|  100000|           Bank| 2004-05|          R.V Pandit|        N|   BJP|Others|          0| 9295525996|          0|          0|             0|            0|         8782|            0|            0|              0|               0.0|1058474.8344340697|        0.0|               0.0|              0.0|          0|  500000000|          0|          0|             0|            0|             0|               0|             0|      116881973|              -|              -|                 -|              -|                 -|              -|      339521289|                 -|       36156111|              -|              -|              -|                 -|       29550672|              -|              -|      249623653|              -|                 -|              -|      306057231|                 -|              -|              -|              -|      823220133|                 -|              -|              -|              -|      146253279|              -|              -|              -|                 -|                 -|      334194113|              -|              -|              -|              -|              -|              -|                 -|      831924462|              -|              -|     1708636182|                 -|              -|              -|              -|     4373506898|                 -|              -|            0|            0|            0|               0|\n",
      "|d8156bae0c4243d37...|  100000|         Cheque| 2012-13|      A & T Infracon|        N|   BJP|Others|          0| 9295525996|          0|          0|             0|            0|         8782|            0|            0|              0|               0.0|1058474.8344340697|        0.0|               0.0|              0.0|          0|  500000000|          0|          0|             0|            0|             0|            5067|             0|      116881973|              -|              -|                 -|              -|                 -|              -|      339521289|                 -|       36156111|              -|              -|              -|                 -|       29550672|              -|              -|      249623653|              -|                 -|              -|      306057231|                 -|              -|              -|              -|      823220133|                 -|              -|              -|              -|      146253279|              -|              -|              -|                 -|                 -|      334194113|              -|              -|              -|              -|              -|              -|                 -|      831924462|              -|              -|     1708636182|                 -|              -|              -|              -|     4373506898|                 -|              -|            0|            0|            0|               0|\n",
      "|9ed075605230cbb74...|  300000|           Bank| 2008-09|A 2 Z online  Ser...|        N|   BJP|Others|          0| 9295525996|          0|          0|             0|            0|         8782|            0|            0|              0|               0.0|1058474.8344340697|        0.0|               0.0|              0.0|          0|  500000000|          0|          0|             0|            0|             0|               0|             0|      116881973|              -|              -|                 -|              -|                 -|              -|      339521289|                 -|       36156111|              -|              -|              -|                 -|       29550672|              -|              -|      249623653|              -|                 -|              -|      306057231|                 -|              -|              -|              -|      823220133|                 -|              -|              -|              -|      146253279|              -|              -|              -|                 -|                 -|      334194113|              -|              -|              -|              -|              -|              -|                 -|      831924462|              -|              -|     1708636182|                 -|              -|              -|              -|     4373506898|                 -|              -|            0|            0|            0|               0|\n",
      "|4bc59ca1c387bfd59...|  200000|           Bank| 2008-09|A 2 Z online  Ser...|        N|   BJP|Others|          0| 9295525996|          0|          0|             0|            0|         8782|            0|            0|              0|               0.0|1058474.8344340697|        0.0|               0.0|              0.0|          0|  500000000|          0|          0|             0|            0|             0|               0|             0|      116881973|              -|              -|                 -|              -|                 -|              -|      339521289|                 -|       36156111|              -|              -|              -|                 -|       29550672|              -|              -|      249623653|              -|                 -|              -|      306057231|                 -|              -|              -|              -|      823220133|                 -|              -|              -|              -|      146253279|              -|              -|              -|                 -|                 -|      334194113|              -|              -|              -|              -|              -|              -|                 -|      831924462|              -|              -|     1708636182|                 -|              -|              -|              -|     4373506898|                 -|              -|            0|            0|            0|               0|\n",
      "|4bc59ca1c387bfd59...|  200000|           Bank| 2008-09|A 2 Z online  Ser...|        N|   BJP|Others|          0| 9295525996|          0|          0|             0|            0|         8782|            0|            0|              0|               0.0|1058474.8344340697|        0.0|               0.0|              0.0|          0|  500000000|          0|          0|             0|            0|             0|               0|             0|      116881973|              -|              -|                 -|              -|                 -|              -|      339521289|                 -|       36156111|              -|              -|              -|                 -|       29550672|              -|              -|      249623653|              -|                 -|              -|      306057231|                 -|              -|              -|              -|      823220133|                 -|              -|              -|              -|      146253279|              -|              -|              -|                 -|                 -|      334194113|              -|              -|              -|              -|              -|              -|                 -|      831924462|              -|              -|     1708636182|                 -|              -|              -|              -|     4373506898|                 -|              -|            0|            0|            0|               0|\n",
      "|d8156bae0c4243d37...|  125000|           Bank| 2012-13|A B Rolling Mills...|        N|   BJP|Others|          0| 9295525996|          0|          0|             0|            0|         8782|            0|            0|              0|               0.0|1058474.8344340697|        0.0|               0.0|              0.0|          0|  500000000|          0|          0|             0|            0|             0|               0|             0|      116881973|              -|              -|                 -|              -|                 -|              -|      339521289|                 -|       36156111|              -|              -|              -|                 -|       29550672|              -|              -|      249623653|              -|                 -|              -|      306057231|                 -|              -|              -|              -|      823220133|                 -|              -|              -|              -|      146253279|              -|              -|              -|                 -|                 -|      334194113|              -|              -|              -|              -|              -|              -|                 -|      831924462|              -|              -|     1708636182|                 -|              -|              -|              -|     4373506898|                 -|              -|            0|            0|            0|               0|\n",
      "|a68f3334fbfbdf18b...|  100000|           Bank| 2011-12|           A C Dixit|        N|   BJP|Others|          0| 9295525996|          0|          0|             0|            0|         8782|            0|            0|              0|               0.0|1058474.8344340697|        0.0|               0.0|              0.0|          0|  500000000|          0|          0|             0|            0|             0|               0|             0|      116881973|              -|              -|                 -|              -|                 -|              -|      339521289|                 -|       36156111|              -|              -|              -|                 -|       29550672|              -|              -|      249623653|              -|                 -|              -|      306057231|                 -|              -|              -|              -|      823220133|                 -|              -|              -|              -|      146253279|              -|              -|              -|                 -|                 -|      334194113|              -|              -|              -|              -|              -|              -|                 -|      831924462|              -|              -|     1708636182|                 -|              -|              -|              -|     4373506898|                 -|              -|            0|            0|            0|               0|\n",
      "|e9552141c8f9ab365...|  100000|           Bank| 2014-15|        A D Builders|        Y|   BJP|Others|          0| 9295525996|          0|          0|             0|            0|         8782|            0|            0|              0|               0.0|1058474.8344340697|        0.0|               0.0|              0.0|          0|  500000000|          0|          0|             0|            0|             0|               0|             0|      116881973|              -|              -|                 -|              -|                 -|              -|      339521289|                 -|       36156111|              -|              -|              -|                 -|       29550672|              -|              -|      249623653|              -|                 -|              -|      306057231|                 -|              -|              -|              -|      823220133|                 -|              -|              -|              -|      146253279|              -|              -|              -|                 -|                 -|      334194113|              -|              -|              -|              -|              -|              -|                 -|      831924462|              -|              -|     1708636182|                 -|              -|              -|              -|     4373506898|                 -|              -|            0|            0|            0|               0|\n",
      "|d8156bae0c4243d37...|   21000|         Cheque| 2012-13|               A Fox|        N|   BJP|Others|          0| 9295525996|          0|          0|             0|            0|         8782|            0|            0|              0|               0.0|1058474.8344340697|        0.0|               0.0|              0.0|          0|  500000000|          0|          0|             0|            0|             0|            5067|             0|      116881973|              -|              -|                 -|              -|                 -|              -|      339521289|                 -|       36156111|              -|              -|              -|                 -|       29550672|              -|              -|      249623653|              -|                 -|              -|      306057231|                 -|              -|              -|              -|      823220133|                 -|              -|              -|              -|      146253279|              -|              -|              -|                 -|                 -|      334194113|              -|              -|              -|              -|              -|              -|                 -|      831924462|              -|              -|     1708636182|                 -|              -|              -|              -|     4373506898|                 -|              -|            0|            0|            0|               0|\n",
      "|6f87e5d7cdf08271c...|  100000|           Bank| 2009-10|A Mahendra Jewellers|        Y|   INC|Others| 4031487349|          0|          0|          0|             0|         3785|            0|            0|            0|              0|1065122.1529722589|               0.0|        0.0|               0.0|              0.0|  500000000|          0|          0|          0|             0|            0|             0|               0|             0|              -|              -|       28301101|                 -|      320555643|                 -|              -|              -|                 -|              -|       59212492|              -|      121273513|                 -|              -|              -|              -|              -|              -|                 -|       78873451|              -|                 -|              -|              -|      279018460|              -|                 -|              -|              -|      840521238|              -|              -|       80205884|              -|                 -|                 -|              -|              -|       95910664|              -|              -|              -|      117166225|                 -|              -|      595837728|              -|              -|                 -|              -|     1414610950|              -|              -|                 -|              -|            0|            0|            0|               0|\n",
      "+--------------------+--------+---------------+--------+--------------------+---------+------+------+-----------+-----------+-----------+-----------+--------------+-------------+-------------+-------------+-------------+---------------+------------------+------------------+-----------+------------------+-----------------+-----------+-----------+-----------+-----------+--------------+-------------+--------------+----------------+--------------+---------------+---------------+---------------+------------------+---------------+------------------+---------------+---------------+------------------+---------------+---------------+---------------+---------------+------------------+---------------+---------------+---------------+---------------+---------------+------------------+---------------+---------------+------------------+---------------+---------------+---------------+---------------+------------------+---------------+---------------+---------------+---------------+---------------+---------------+---------------+------------------+------------------+---------------+---------------+---------------+---------------+---------------+---------------+---------------+------------------+---------------+---------------+---------------+---------------+------------------+---------------+---------------+---------------+---------------+------------------+---------------+-------------+-------------+-------------+----------------+\n",
      "only showing top 20 rows\n",
      "\n"
     ]
    }
   ],
   "source": [
    "df2 = df2.withColumn(\"BJP_TOP_DONOR\",when((df2.Amount==max_bjp_ltd[0][0]),df2.Name).otherwise(0))\n",
    "\n",
    "df2 = df2.withColumn(\"CPI_TOP_DONOR\",when((df2.Amount==max_cpi_ltd[0][0]),df2.Name).otherwise(0))\n",
    "\n",
    "df2 = df2.withColumn(\"INC_TOP_DONOR\",when((df2.Amount==max_inc_ltd[0][0]),df2.Name).otherwise(0))\n",
    "\n",
    "df2 = df2.withColumn(\"NCP_TOP_DONOR\",when((df2.Amount==max_ncp_ltd[0][0]),df2.Name).otherwise(0))\n",
    "\n",
    "df2 = df2.withColumn(\"CPI(M)_TOP_DONOR\",when((df2.Amount==max_cpim_ltd[0][0]),df2.Name).otherwise(0))\n",
    "\n",
    "df2.show()"
   ]
  },
  {
   "cell_type": "code",
   "execution_count": 24,
   "metadata": {},
   "outputs": [
    {
     "name": "stdout",
     "output_type": "stream",
     "text": [
      "+--------------------+--------+---------------+--------+--------------------+---------+------+------+-----------+-----------+-----------+-----------+--------------+-------------+-------------+-------------+-------------+---------------+------------------+------------------+-----------+------------------+-----------------+-----------+-----------+-----------+-----------+--------------+-------------+--------------+----------------+--------------+\n",
      "|             Address|  Amount|mode_of_payment|fin_year|                Name|pan_given| Party|  Type|INC_SUM_LTD|BJP_SUM_LTD|NCP_SUM_LTD|CPI_SUM_LTD|CPI(M)_SUM_LTD|INC_COUNT_LTD|BJP_COUNT_LTD|NCP_COUNT_LTD|CPI_COUNT_LTD|CPI_M_COUNT_LTD|       INC_AVG_LTD|       BJP_AVG_LTD|NCP_AVG_LTD|       CPI_AVG_LTD|   CPI(M)_AVG_LTD|INC_MAX_LTD|BJP_MAX_LTD|NCP_MAX_LTD|CPI_MAX_LTD|CPI(M)_MAX_LTD|BJP_TOP_DONOR|BANK_COUNT_LTD|CHEQUE_COUNT_LTD|CASH_COUNT_LTD|\n",
      "+--------------------+--------+---------------+--------+--------------------+---------+------+------+-----------+-----------+-----------+-----------+--------------+-------------+-------------+-------------+-------------+---------------+------------------+------------------+-----------+------------------+-----------------+-----------+-----------+-----------+-----------+--------------+-------------+--------------+----------------+--------------+\n",
      "|5a3058deb6f337958...| 3000000|           Cash| 2010-11|          Aziz Pasha|        Y|   CPI|Others|          0|          0|          0|   68123698|             0|            0|            0|            0|          384|              0|               0.0|               0.0|        0.0|177405.46354166666|              0.0|          0|          0|          0|    3000000|             0|            0|             0|               0|          8404|\n",
      "|846539cb21bc9e6c6...|10000000|           Bank| 2014-15|    V K Ramachandran|        Y|CPI(M)|Others|          0|          0|          0|   68123698|     150622128|            0|            0|            0|          384|            515|               0.0|               0.0|        0.0|177405.46354166666|292470.1514563107|          0|          0|          0|    3000000|      10000000|            0|             0|               0|             0|\n",
      "|869fa3a19f1c51ad1...|  108000|           Bank| 2014-15|  Dr. Manmohan Singh|        N|   INC|Others| 4031487349|          0|          0|          0|             0|         3785|            0|            0|            0|              0|1065122.1529722589|               0.0|        0.0|               0.0|              0.0|  500000000|          0|          0|          0|             0|            0|             0|               0|             0|\n",
      "|5f04f40130569ddab...|   54000|           Bank| 2011-12| Dr. Manda Jagnathan|        N|   INC|Others| 4031487349|          0|          0|          0|             0|         3785|            0|            0|            0|              0|1065122.1529722589|               0.0|        0.0|               0.0|              0.0|  500000000|          0|          0|          0|             0|            0|             0|               0|             0|\n",
      "|524b1379d08e4c02f...|   54000|           Bank| 2011-12|    Prof. K.V.Thomas|        N|   INC|Others| 4031487349|          0|          0|          0|             0|         3785|            0|            0|            0|              0|1065122.1529722589|               0.0|        0.0|               0.0|              0.0|  500000000|          0|          0|          0|             0|            0|             0|               0|             0|\n",
      "|6db7af0c5dca3b333...|  100000|         Cheque| 2011-12|     Sweta Chyouksey|        Y|   BJP|Others|          0| 9295525996|          0|          0|             0|            0|         8782|            0|            0|              0|               0.0|1058474.8344340697|        0.0|               0.0|              0.0|          0|  500000000|          0|          0|             0|            0|             0|            5067|             0|\n",
      "|c01158e07376c3778...|  100000|         Cheque| 2011-12|   Uma Shankar Gupta|        N|   BJP|Others|          0| 9295525996|          0|          0|             0|            0|         8782|            0|            0|              0|               0.0|1058474.8344340697|        0.0|               0.0|              0.0|          0|  500000000|          0|          0|             0|            0|             0|            5067|             0|\n",
      "|d8156bae0c4243d37...|   25000|           Bank| 2013-14|Parshwanath Bhakt...|        N|   BJP|Others|          0| 9295525996|          0|          0|             0|            0|         8782|            0|            0|              0|               0.0|1058474.8344340697|        0.0|               0.0|              0.0|          0|  500000000|          0|          0|             0|            0|             0|               0|             0|\n",
      "|15c64efe58b209e20...|  100000|         Cheque| 2011-12|Anand Constructio...|        Y|   BJP|Others|          0| 9295525996|          0|          0|             0|            0|         8782|            0|            0|              0|               0.0|1058474.8344340697|        0.0|               0.0|              0.0|          0|  500000000|          0|          0|             0|            0|             0|            5067|             0|\n",
      "|c8087c832dde2a1c4...|   54000|           Bank| 2013-14|       Kamal Kashore|        N|   INC|Others| 4031487349|          0|          0|          0|             0|         3785|            0|            0|            0|              0|1065122.1529722589|               0.0|        0.0|               0.0|              0.0|  500000000|          0|          0|          0|             0|            0|             0|               0|             0|\n",
      "|9f2ba6981e36ea0fc...|  100000|           Bank| 2004-05|          R.V Pandit|        N|   BJP|Others|          0| 9295525996|          0|          0|             0|            0|         8782|            0|            0|              0|               0.0|1058474.8344340697|        0.0|               0.0|              0.0|          0|  500000000|          0|          0|             0|            0|             0|               0|             0|\n",
      "|d8156bae0c4243d37...|  100000|         Cheque| 2012-13|      A & T Infracon|        N|   BJP|Others|          0| 9295525996|          0|          0|             0|            0|         8782|            0|            0|              0|               0.0|1058474.8344340697|        0.0|               0.0|              0.0|          0|  500000000|          0|          0|             0|            0|             0|            5067|             0|\n",
      "|9ed075605230cbb74...|  300000|           Bank| 2008-09|A 2 Z online  Ser...|        N|   BJP|Others|          0| 9295525996|          0|          0|             0|            0|         8782|            0|            0|              0|               0.0|1058474.8344340697|        0.0|               0.0|              0.0|          0|  500000000|          0|          0|             0|            0|             0|               0|             0|\n",
      "|4bc59ca1c387bfd59...|  200000|           Bank| 2008-09|A 2 Z online  Ser...|        N|   BJP|Others|          0| 9295525996|          0|          0|             0|            0|         8782|            0|            0|              0|               0.0|1058474.8344340697|        0.0|               0.0|              0.0|          0|  500000000|          0|          0|             0|            0|             0|               0|             0|\n",
      "|4bc59ca1c387bfd59...|  200000|           Bank| 2008-09|A 2 Z online  Ser...|        N|   BJP|Others|          0| 9295525996|          0|          0|             0|            0|         8782|            0|            0|              0|               0.0|1058474.8344340697|        0.0|               0.0|              0.0|          0|  500000000|          0|          0|             0|            0|             0|               0|             0|\n",
      "|d8156bae0c4243d37...|  125000|           Bank| 2012-13|A B Rolling Mills...|        N|   BJP|Others|          0| 9295525996|          0|          0|             0|            0|         8782|            0|            0|              0|               0.0|1058474.8344340697|        0.0|               0.0|              0.0|          0|  500000000|          0|          0|             0|            0|             0|               0|             0|\n",
      "|a68f3334fbfbdf18b...|  100000|           Bank| 2011-12|           A C Dixit|        N|   BJP|Others|          0| 9295525996|          0|          0|             0|            0|         8782|            0|            0|              0|               0.0|1058474.8344340697|        0.0|               0.0|              0.0|          0|  500000000|          0|          0|             0|            0|             0|               0|             0|\n",
      "|e9552141c8f9ab365...|  100000|           Bank| 2014-15|        A D Builders|        Y|   BJP|Others|          0| 9295525996|          0|          0|             0|            0|         8782|            0|            0|              0|               0.0|1058474.8344340697|        0.0|               0.0|              0.0|          0|  500000000|          0|          0|             0|            0|             0|               0|             0|\n",
      "|d8156bae0c4243d37...|   21000|         Cheque| 2012-13|               A Fox|        N|   BJP|Others|          0| 9295525996|          0|          0|             0|            0|         8782|            0|            0|              0|               0.0|1058474.8344340697|        0.0|               0.0|              0.0|          0|  500000000|          0|          0|             0|            0|             0|            5067|             0|\n",
      "|6f87e5d7cdf08271c...|  100000|           Bank| 2009-10|A Mahendra Jewellers|        Y|   INC|Others| 4031487349|          0|          0|          0|             0|         3785|            0|            0|            0|              0|1065122.1529722589|               0.0|        0.0|               0.0|              0.0|  500000000|          0|          0|          0|             0|            0|             0|               0|             0|\n",
      "+--------------------+--------+---------------+--------+--------------------+---------+------+------+-----------+-----------+-----------+-----------+--------------+-------------+-------------+-------------+-------------+---------------+------------------+------------------+-----------+------------------+-----------------+-----------+-----------+-----------+-----------+--------------+-------------+--------------+----------------+--------------+\n",
      "only showing top 20 rows\n",
      "\n"
     ]
    }
   ],
   "source": [
    "bank_count_ltd = df2.groupBy(\"mode_of_payment\").count().filter(df2.mode_of_payment == 'Bank').select(\"count\").collect()\n",
    "df2 = df2.withColumn(\"BANK_COUNT_LTD\", when(df2.mode_of_payment.contains(\"Bank\"),bank_count_ltd[0][0]).otherwise(0))\n",
    "\n",
    "\n",
    "cheque_count_ltd = df2.groupBy(\"mode_of_payment\").count().filter(df2.mode_of_payment == 'Cheque').select(\"count\").collect()\n",
    "df2 = df2.withColumn(\"CHEQUE_COUNT_LTD\", when(df2.mode_of_payment.contains(\"Cheque\"),cheque_count_ltd[0][0]).otherwise(0))\n",
    "\n",
    "\n",
    "cash_count_ltd = df2.groupBy(\"mode_of_payment\").count().filter(df2.mode_of_payment == 'Bank').select(\"count\").collect()\n",
    "df2 = df2.withColumn(\"CASH_COUNT_LTD\", when(df2.mode_of_payment.contains(\"Cash\"),cash_count_ltd[0][0]).otherwise(0))\n",
    "\n",
    "\n",
    "others_count_ltd = df2.groupBy(\"mode_of_payment\").count().filter(df2.mode_of_payment == 'Bank').select(\"count\").collect()\n",
    "df2 = df2.withColumn(\"BANK_COUNT_LTD\", when(df2.mode_of_payment.contains(\"Others\"),others_count_ltd[0][0]).otherwise(0))\n",
    "df2.show()\n",
    "\n"
   ]
  },
  {
   "cell_type": "code",
   "execution_count": 25,
   "metadata": {},
   "outputs": [
    {
     "data": {
      "text/plain": [
       "DataFrame[sum(Amount): bigint]"
      ]
     },
     "execution_count": 25,
     "metadata": {},
     "output_type": "execute_result"
    }
   ],
   "source": [
    "df2.select(sum(\"Amount\"))"
   ]
  },
  {
   "cell_type": "code",
   "execution_count": 26,
   "metadata": {},
   "outputs": [
    {
     "name": "stdout",
     "output_type": "stream",
     "text": [
      "+--------------------+--------+---------------+--------+--------------------+---------+------+------+-----------+-----------+-----------+-----------+--------------+-------------+-------------+-------------+-------------+---------------+------------------+------------------+-----------+------------------+-----------------+-----------+-----------+-----------+-----------+--------------+-------------+--------------+----------------+--------------+\n",
      "|             Address|  Amount|mode_of_payment|fin_year|                Name|pan_given| Party|  Type|INC_SUM_LTD|BJP_SUM_LTD|NCP_SUM_LTD|CPI_SUM_LTD|CPI(M)_SUM_LTD|INC_COUNT_LTD|BJP_COUNT_LTD|NCP_COUNT_LTD|CPI_COUNT_LTD|CPI_M_COUNT_LTD|       INC_AVG_LTD|       BJP_AVG_LTD|NCP_AVG_LTD|       CPI_AVG_LTD|   CPI(M)_AVG_LTD|INC_MAX_LTD|BJP_MAX_LTD|NCP_MAX_LTD|CPI_MAX_LTD|CPI(M)_MAX_LTD|BJP_TOP_DONOR|BANK_COUNT_LTD|CHEQUE_COUNT_LTD|CASH_COUNT_LTD|\n",
      "+--------------------+--------+---------------+--------+--------------------+---------+------+------+-----------+-----------+-----------+-----------+--------------+-------------+-------------+-------------+-------------+---------------+------------------+------------------+-----------+------------------+-----------------+-----------+-----------+-----------+-----------+--------------+-------------+--------------+----------------+--------------+\n",
      "|5a3058deb6f337958...| 3000000|           Cash| 2010-11|          Aziz Pasha|        Y|   CPI|Others|          0|          0|          0|   68123698|             0|            0|            0|            0|          384|              0|               0.0|               0.0|        0.0|177405.46354166666|              0.0|          0|          0|          0|    3000000|             0|            0|             0|               0|          8404|\n",
      "|846539cb21bc9e6c6...|10000000|           Bank| 2014-15|    V K Ramachandran|        Y|CPI(M)|Others|          0|          0|          0|   68123698|     150622128|            0|            0|            0|          384|            515|               0.0|               0.0|        0.0|177405.46354166666|292470.1514563107|          0|          0|          0|    3000000|      10000000|            0|             0|               0|             0|\n",
      "|869fa3a19f1c51ad1...|  108000|           Bank| 2014-15|  Dr. Manmohan Singh|        N|   INC|Others| 4031487349|          0|          0|          0|             0|         3785|            0|            0|            0|              0|1065122.1529722589|               0.0|        0.0|               0.0|              0.0|  500000000|          0|          0|          0|             0|            0|             0|               0|             0|\n",
      "|5f04f40130569ddab...|   54000|           Bank| 2011-12| Dr. Manda Jagnathan|        N|   INC|Others| 4031487349|          0|          0|          0|             0|         3785|            0|            0|            0|              0|1065122.1529722589|               0.0|        0.0|               0.0|              0.0|  500000000|          0|          0|          0|             0|            0|             0|               0|             0|\n",
      "|524b1379d08e4c02f...|   54000|           Bank| 2011-12|    Prof. K.V.Thomas|        N|   INC|Others| 4031487349|          0|          0|          0|             0|         3785|            0|            0|            0|              0|1065122.1529722589|               0.0|        0.0|               0.0|              0.0|  500000000|          0|          0|          0|             0|            0|             0|               0|             0|\n",
      "|6db7af0c5dca3b333...|  100000|         Cheque| 2011-12|     Sweta Chyouksey|        Y|   BJP|Others|          0| 9295525996|          0|          0|             0|            0|         8782|            0|            0|              0|               0.0|1058474.8344340697|        0.0|               0.0|              0.0|          0|  500000000|          0|          0|             0|            0|             0|            5067|             0|\n",
      "|c01158e07376c3778...|  100000|         Cheque| 2011-12|   Uma Shankar Gupta|        N|   BJP|Others|          0| 9295525996|          0|          0|             0|            0|         8782|            0|            0|              0|               0.0|1058474.8344340697|        0.0|               0.0|              0.0|          0|  500000000|          0|          0|             0|            0|             0|            5067|             0|\n",
      "|d8156bae0c4243d37...|   25000|           Bank| 2013-14|Parshwanath Bhakt...|        N|   BJP|Others|          0| 9295525996|          0|          0|             0|            0|         8782|            0|            0|              0|               0.0|1058474.8344340697|        0.0|               0.0|              0.0|          0|  500000000|          0|          0|             0|            0|             0|               0|             0|\n",
      "|15c64efe58b209e20...|  100000|         Cheque| 2011-12|Anand Constructio...|        Y|   BJP|Others|          0| 9295525996|          0|          0|             0|            0|         8782|            0|            0|              0|               0.0|1058474.8344340697|        0.0|               0.0|              0.0|          0|  500000000|          0|          0|             0|            0|             0|            5067|             0|\n",
      "|c8087c832dde2a1c4...|   54000|           Bank| 2013-14|       Kamal Kashore|        N|   INC|Others| 4031487349|          0|          0|          0|             0|         3785|            0|            0|            0|              0|1065122.1529722589|               0.0|        0.0|               0.0|              0.0|  500000000|          0|          0|          0|             0|            0|             0|               0|             0|\n",
      "|9f2ba6981e36ea0fc...|  100000|           Bank| 2004-05|          R.V Pandit|        N|   BJP|Others|          0| 9295525996|          0|          0|             0|            0|         8782|            0|            0|              0|               0.0|1058474.8344340697|        0.0|               0.0|              0.0|          0|  500000000|          0|          0|             0|            0|             0|               0|             0|\n",
      "|d8156bae0c4243d37...|  100000|         Cheque| 2012-13|      A & T Infracon|        N|   BJP|Others|          0| 9295525996|          0|          0|             0|            0|         8782|            0|            0|              0|               0.0|1058474.8344340697|        0.0|               0.0|              0.0|          0|  500000000|          0|          0|             0|            0|             0|            5067|             0|\n",
      "|9ed075605230cbb74...|  300000|           Bank| 2008-09|A 2 Z online  Ser...|        N|   BJP|Others|          0| 9295525996|          0|          0|             0|            0|         8782|            0|            0|              0|               0.0|1058474.8344340697|        0.0|               0.0|              0.0|          0|  500000000|          0|          0|             0|            0|             0|               0|             0|\n",
      "|4bc59ca1c387bfd59...|  200000|           Bank| 2008-09|A 2 Z online  Ser...|        N|   BJP|Others|          0| 9295525996|          0|          0|             0|            0|         8782|            0|            0|              0|               0.0|1058474.8344340697|        0.0|               0.0|              0.0|          0|  500000000|          0|          0|             0|            0|             0|               0|             0|\n",
      "|4bc59ca1c387bfd59...|  200000|           Bank| 2008-09|A 2 Z online  Ser...|        N|   BJP|Others|          0| 9295525996|          0|          0|             0|            0|         8782|            0|            0|              0|               0.0|1058474.8344340697|        0.0|               0.0|              0.0|          0|  500000000|          0|          0|             0|            0|             0|               0|             0|\n",
      "|d8156bae0c4243d37...|  125000|           Bank| 2012-13|A B Rolling Mills...|        N|   BJP|Others|          0| 9295525996|          0|          0|             0|            0|         8782|            0|            0|              0|               0.0|1058474.8344340697|        0.0|               0.0|              0.0|          0|  500000000|          0|          0|             0|            0|             0|               0|             0|\n",
      "|a68f3334fbfbdf18b...|  100000|           Bank| 2011-12|           A C Dixit|        N|   BJP|Others|          0| 9295525996|          0|          0|             0|            0|         8782|            0|            0|              0|               0.0|1058474.8344340697|        0.0|               0.0|              0.0|          0|  500000000|          0|          0|             0|            0|             0|               0|             0|\n",
      "|e9552141c8f9ab365...|  100000|           Bank| 2014-15|        A D Builders|        Y|   BJP|Others|          0| 9295525996|          0|          0|             0|            0|         8782|            0|            0|              0|               0.0|1058474.8344340697|        0.0|               0.0|              0.0|          0|  500000000|          0|          0|             0|            0|             0|               0|             0|\n",
      "|d8156bae0c4243d37...|   21000|         Cheque| 2012-13|               A Fox|        N|   BJP|Others|          0| 9295525996|          0|          0|             0|            0|         8782|            0|            0|              0|               0.0|1058474.8344340697|        0.0|               0.0|              0.0|          0|  500000000|          0|          0|             0|            0|             0|            5067|             0|\n",
      "|6f87e5d7cdf08271c...|  100000|           Bank| 2009-10|A Mahendra Jewellers|        Y|   INC|Others| 4031487349|          0|          0|          0|             0|         3785|            0|            0|            0|              0|1065122.1529722589|               0.0|        0.0|               0.0|              0.0|  500000000|          0|          0|          0|             0|            0|             0|               0|             0|\n",
      "+--------------------+--------+---------------+--------+--------------------+---------+------+------+-----------+-----------+-----------+-----------+--------------+-------------+-------------+-------------+-------------+---------------+------------------+------------------+-----------+------------------+-----------------+-----------+-----------+-----------+-----------+--------------+-------------+--------------+----------------+--------------+\n",
      "only showing top 20 rows\n",
      "\n"
     ]
    }
   ],
   "source": [
    "df2.show()"
   ]
  },
  {
   "cell_type": "code",
   "execution_count": 27,
   "metadata": {},
   "outputs": [
    {
     "name": "stdout",
     "output_type": "stream",
     "text": [
      "+------+--------+-----------+\n",
      "| Party|fin_year|sum(Amount)|\n",
      "+------+--------+-----------+\n",
      "|   INC| 2003-04|   28301101|\n",
      "|CPI(M)| 2003-04|     200000|\n",
      "|   BJP| 2003-04|  116881973|\n",
      "|   CPI| 2003-04|     779148|\n",
      "|   INC| 2004-05|  320555643|\n",
      "|CPI(M)| 2004-05|     896355|\n",
      "|   CPI| 2004-05|     630000|\n",
      "|   BJP| 2004-05|  339521289|\n",
      "|   CPI| 2005-06|    3988690|\n",
      "|   BJP| 2005-06|   36156111|\n",
      "|CPI(M)| 2005-06|     550000|\n",
      "|   INC| 2005-06|   59212492|\n",
      "|CPI(M)| 2006-07|    1124719|\n",
      "|   BJP| 2006-07|   29550672|\n",
      "|   INC| 2006-07|  121273513|\n",
      "|   CPI| 2006-07|    1229400|\n",
      "|   CPI| 2007-08|    4125800|\n",
      "|CPI(M)| 2007-08|    7226116|\n",
      "|   BJP| 2007-08|  249623653|\n",
      "|   NCP| 2007-08|   10225000|\n",
      "+------+--------+-----------+\n",
      "only showing top 20 rows\n",
      "\n"
     ]
    }
   ],
   "source": [
    "sdon = df2.groupBy(\"Party\",\"fin_year\").sum(\"Amount\").sort(\"fin_year\")  \n",
    "sdon.show() \n",
    "\n",
    "for row in sdon.collect():  \n",
    "    name = row[1] + \"_\" + row[0] + \"_\" + \"SUM\"  \n",
    "    df2 = df2.withColumn(name,lit('-'))  \n",
    "    df2 = df2.withColumn(name, when(col(\"Party\") == row[0], row[2])  \n",
    "    .otherwise('-'))  \n",
    "\n",
    "\n"
   ]
  },
  {
   "cell_type": "code",
   "execution_count": 28,
   "metadata": {},
   "outputs": [
    {
     "ename": "AnalysisException",
     "evalue": "path file:/c:/Users/asawan/Documents/spark/sparkfile.parquet already exists.",
     "output_type": "error",
     "traceback": [
      "\u001b[1;31m---------------------------------------------------------------------------\u001b[0m",
      "\u001b[1;31mAnalysisException\u001b[0m                         Traceback (most recent call last)",
      "\u001b[1;32mc:\\Users\\asawan\\Documents\\spark\\spark.ipynb Cell 31\u001b[0m in \u001b[0;36m<cell line: 1>\u001b[1;34m()\u001b[0m\n\u001b[1;32m----> <a href='vscode-notebook-cell:/c%3A/Users/asawan/Documents/spark/spark.ipynb#ch0000030?line=0'>1</a>\u001b[0m df2\u001b[39m.\u001b[39;49mwrite\u001b[39m.\u001b[39;49mparquet(\u001b[39m\"\u001b[39;49m\u001b[39msparkfile.parquet\u001b[39;49m\u001b[39m\"\u001b[39;49m)\n",
      "File \u001b[1;32mc:\\Users\\asawan\\AppData\\Local\\Programs\\Python\\Python39\\lib\\site-packages\\pyspark\\sql\\readwriter.py:1140\u001b[0m, in \u001b[0;36mDataFrameWriter.parquet\u001b[1;34m(self, path, mode, partitionBy, compression)\u001b[0m\n\u001b[0;32m   1138\u001b[0m     \u001b[39mself\u001b[39m\u001b[39m.\u001b[39mpartitionBy(partitionBy)\n\u001b[0;32m   1139\u001b[0m \u001b[39mself\u001b[39m\u001b[39m.\u001b[39m_set_opts(compression\u001b[39m=\u001b[39mcompression)\n\u001b[1;32m-> 1140\u001b[0m \u001b[39mself\u001b[39;49m\u001b[39m.\u001b[39;49m_jwrite\u001b[39m.\u001b[39;49mparquet(path)\n",
      "File \u001b[1;32mc:\\Users\\asawan\\AppData\\Local\\Programs\\Python\\Python39\\lib\\site-packages\\py4j\\java_gateway.py:1321\u001b[0m, in \u001b[0;36mJavaMember.__call__\u001b[1;34m(self, *args)\u001b[0m\n\u001b[0;32m   1315\u001b[0m command \u001b[39m=\u001b[39m proto\u001b[39m.\u001b[39mCALL_COMMAND_NAME \u001b[39m+\u001b[39m\\\n\u001b[0;32m   1316\u001b[0m     \u001b[39mself\u001b[39m\u001b[39m.\u001b[39mcommand_header \u001b[39m+\u001b[39m\\\n\u001b[0;32m   1317\u001b[0m     args_command \u001b[39m+\u001b[39m\\\n\u001b[0;32m   1318\u001b[0m     proto\u001b[39m.\u001b[39mEND_COMMAND_PART\n\u001b[0;32m   1320\u001b[0m answer \u001b[39m=\u001b[39m \u001b[39mself\u001b[39m\u001b[39m.\u001b[39mgateway_client\u001b[39m.\u001b[39msend_command(command)\n\u001b[1;32m-> 1321\u001b[0m return_value \u001b[39m=\u001b[39m get_return_value(\n\u001b[0;32m   1322\u001b[0m     answer, \u001b[39mself\u001b[39;49m\u001b[39m.\u001b[39;49mgateway_client, \u001b[39mself\u001b[39;49m\u001b[39m.\u001b[39;49mtarget_id, \u001b[39mself\u001b[39;49m\u001b[39m.\u001b[39;49mname)\n\u001b[0;32m   1324\u001b[0m \u001b[39mfor\u001b[39;00m temp_arg \u001b[39min\u001b[39;00m temp_args:\n\u001b[0;32m   1325\u001b[0m     temp_arg\u001b[39m.\u001b[39m_detach()\n",
      "File \u001b[1;32mc:\\Users\\asawan\\AppData\\Local\\Programs\\Python\\Python39\\lib\\site-packages\\pyspark\\sql\\utils.py:196\u001b[0m, in \u001b[0;36mcapture_sql_exception.<locals>.deco\u001b[1;34m(*a, **kw)\u001b[0m\n\u001b[0;32m    192\u001b[0m converted \u001b[39m=\u001b[39m convert_exception(e\u001b[39m.\u001b[39mjava_exception)\n\u001b[0;32m    193\u001b[0m \u001b[39mif\u001b[39;00m \u001b[39mnot\u001b[39;00m \u001b[39misinstance\u001b[39m(converted, UnknownException):\n\u001b[0;32m    194\u001b[0m     \u001b[39m# Hide where the exception came from that shows a non-Pythonic\u001b[39;00m\n\u001b[0;32m    195\u001b[0m     \u001b[39m# JVM exception message.\u001b[39;00m\n\u001b[1;32m--> 196\u001b[0m     \u001b[39mraise\u001b[39;00m converted \u001b[39mfrom\u001b[39;00m \u001b[39mNone\u001b[39m\n\u001b[0;32m    197\u001b[0m \u001b[39melse\u001b[39;00m:\n\u001b[0;32m    198\u001b[0m     \u001b[39mraise\u001b[39;00m\n",
      "\u001b[1;31mAnalysisException\u001b[0m: path file:/c:/Users/asawan/Documents/spark/sparkfile.parquet already exists."
     ]
    }
   ],
   "source": [
    "df2.write.parquet(\"sparkfile.parquet\")"
   ]
  },
  {
   "cell_type": "code",
   "execution_count": null,
   "metadata": {},
   "outputs": [],
   "source": []
  }
 ],
 "metadata": {
  "kernelspec": {
   "display_name": "Python 3.9.13 64-bit",
   "language": "python",
   "name": "python3"
  },
  "language_info": {
   "codemirror_mode": {
    "name": "ipython",
    "version": 3
   },
   "file_extension": ".py",
   "mimetype": "text/x-python",
   "name": "python",
   "nbconvert_exporter": "python",
   "pygments_lexer": "ipython3",
   "version": "3.9.13"
  },
  "orig_nbformat": 4,
  "vscode": {
   "interpreter": {
    "hash": "a2f632786ca2c6ef9651aad984f8902e986bb31323522500dbbb66674c697e26"
   }
  }
 },
 "nbformat": 4,
 "nbformat_minor": 2
}
